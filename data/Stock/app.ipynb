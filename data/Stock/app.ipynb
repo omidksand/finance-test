{
 "cells": [
  {
   "cell_type": "code",
   "execution_count": 10,
   "id": "edd35bdd-7add-46fb-9487-ef215a9854be",
   "metadata": {
    "tags": []
   },
   "outputs": [
    {
     "data": {
      "application/vnd.jupyter.widget-view+json": {
       "model_id": "152cf7fcf5df4d28959d696b12bec3c0",
       "version_major": 2,
       "version_minor": 0
      },
      "text/plain": [
       "VBox(children=(Label(value='price | None ~ None'), HBox(children=(DatePicker(value=None, description='from', s…"
      ]
     },
     "metadata": {},
     "output_type": "display_data"
    },
    {
     "data": {
      "application/vnd.jupyter.widget-view+json": {
       "model_id": "a3edef7cc50b441c8611d0bdddedb344",
       "version_major": 2,
       "version_minor": 0
      },
      "text/plain": [
       "VBox(children=(Label(value='bargin_report | None ~ None'), HBox(children=(DatePicker(value=None, description='…"
      ]
     },
     "metadata": {},
     "output_type": "display_data"
    },
    {
     "data": {
      "application/vnd.jupyter.widget-view+json": {
       "model_id": "efe6170a146e427385f0953600395c76",
       "version_major": 2,
       "version_minor": 0
      },
      "text/plain": [
       "VBox(children=(Label(value='pe | None ~ None'), HBox(children=(DatePicker(value=None, description='from', step…"
      ]
     },
     "metadata": {},
     "output_type": "display_data"
    },
    {
     "data": {
      "application/vnd.jupyter.widget-view+json": {
       "model_id": "385684f210174b2cb8353f35275ab93d",
       "version_major": 2,
       "version_minor": 0
      },
      "text/plain": [
       "VBox(children=(Label(value='monthly_report | None ~ None'), HBox(children=(DatePicker(value=None, description=…"
      ]
     },
     "metadata": {},
     "output_type": "display_data"
    },
    {
     "data": {
      "application/vnd.jupyter.widget-view+json": {
       "model_id": "0b8047592fd546abab9d90312a91fcf6",
       "version_major": 2,
       "version_minor": 0
      },
      "text/plain": [
       "VBox(children=(Label(value='benchmark | None ~ None'), HBox(children=(DatePicker(value=None, description='from…"
      ]
     },
     "metadata": {},
     "output_type": "display_data"
    },
    {
     "data": {
      "application/vnd.jupyter.widget-view+json": {
       "model_id": "6ae4490e36b0422180b4cd7d7a21e620",
       "version_major": 2,
       "version_minor": 0
      },
      "text/plain": [
       "VBox(children=(Label(value='financial_statement | None ~ None'), HBox(children=(DatePicker(value=None, descrip…"
      ]
     },
     "metadata": {},
     "output_type": "display_data"
    },
    {
     "data": {
      "application/vnd.jupyter.widget-view+json": {
       "model_id": "2817183e0a404a0caf867e60a5456bdb",
       "version_major": 2,
       "version_minor": 0
      },
      "text/plain": [
       "VBox(children=(Label(value='twse_divide_ratio | None ~ None'), HBox(children=(Button(description='update ', st…"
      ]
     },
     "metadata": {},
     "output_type": "display_data"
    },
    {
     "data": {
      "application/vnd.jupyter.widget-view+json": {
       "model_id": "0aedb550d3124f978903435bbf1606a7",
       "version_major": 2,
       "version_minor": 0
      },
      "text/plain": [
       "VBox(children=(Label(value='otc_divide_ratio | None ~ None'), HBox(children=(Button(description='update ', sty…"
      ]
     },
     "metadata": {},
     "output_type": "display_data"
    },
    {
     "data": {
      "application/vnd.jupyter.widget-view+json": {
       "model_id": "69f3fe17c2cb414f8679174ac4b473d2",
       "version_major": 2,
       "version_minor": 0
      },
      "text/plain": [
       "VBox(children=(Label(value='twse_cap_reduction | None ~ None'), HBox(children=(Button(description='update ', s…"
      ]
     },
     "metadata": {},
     "output_type": "display_data"
    },
    {
     "data": {
      "application/vnd.jupyter.widget-view+json": {
       "model_id": "66db0bef4e524665b83a1ca2928facad",
       "version_major": 2,
       "version_minor": 0
      },
      "text/plain": [
       "VBox(children=(Label(value='otc_cap_reduction | None ~ None'), HBox(children=(Button(description='update ', st…"
      ]
     },
     "metadata": {},
     "output_type": "display_data"
    },
    {
     "data": {
      "application/vnd.jupyter.widget-view+json": {
       "model_id": "0bb49d7bf6bd43df87533d9d57dc814d",
       "version_major": 2,
       "version_minor": 0
      },
      "text/plain": [
       "Output(layout=Layout(border_bottom='1px solid black', border_left='1px solid black', border_right='1px solid b…"
      ]
     },
     "metadata": {},
     "output_type": "display_data"
    }
   ],
   "source": [
    "# import os\n",
    "# os.chdir('/opt/app/data/Stock')\n",
    "\n",
    "from Stock.finlab.crawler import (\n",
    "    # 爬蟲們\n",
    "    crawl_price,\n",
    "    crawl_bargin,\n",
    "    crawl_pe,\n",
    "    crawl_monthly_report,\n",
    "    crawl_finance_statement_by_date,\n",
    "    crawl_twse_divide_ratio,\n",
    "    crawl_otc_divide_ratio,\n",
    "    crawl_twse_cap_reduction,\n",
    "    crawl_otc_cap_reduction,\n",
    "    crawl_benchmark,\n",
    "\n",
    "    # 時間的range\n",
    "    date_range,\n",
    "    month_range,\n",
    "    season_range,\n",
    "\n",
    "    # GUI介面\n",
    "    widget, out,\n",
    ")\n",
    "widget('price', crawl_price, date_range)\n",
    "widget('bargin_report', crawl_bargin, date_range)\n",
    "widget('pe', crawl_pe, date_range)\n",
    "widget('monthly_report', crawl_monthly_report, month_range)\n",
    "widget('benchmark', crawl_benchmark, date_range)\n",
    "widget('financial_statement', crawl_finance_statement_by_date, season_range)\n",
    "widget('twse_divide_ratio', crawl_twse_divide_ratio)\n",
    "widget('otc_divide_ratio', crawl_otc_divide_ratio)\n",
    "widget('twse_cap_reduction', crawl_twse_cap_reduction)\n",
    "widget('otc_cap_reduction', crawl_otc_cap_reduction)\n",
    "\n",
    "out.clear_output()\n",
    "display(out)"
   ]
  },
  {
   "cell_type": "code",
   "execution_count": null,
   "id": "13b62d4a-b5b5-45cf-b60d-581ff80c28e3",
   "metadata": {},
   "outputs": [],
   "source": []
  }
 ],
 "metadata": {
  "kernelspec": {
   "display_name": "Python 3 (ipykernel)",
   "language": "python",
   "name": "python3"
  },
  "language_info": {
   "codemirror_mode": {
    "name": "ipython",
    "version": 3
   },
   "file_extension": ".py",
   "mimetype": "text/x-python",
   "name": "python",
   "nbconvert_exporter": "python",
   "pygments_lexer": "ipython3",
   "version": "3.9.5"
  }
 },
 "nbformat": 4,
 "nbformat_minor": 5
}
